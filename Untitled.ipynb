{
 "cells": [
  {
   "cell_type": "code",
   "execution_count": 1,
   "id": "736c5672",
   "metadata": {},
   "outputs": [],
   "source": [
    "# 快捷键命令配置"
   ]
  },
  {
   "cell_type": "code",
   "execution_count": 2,
   "id": "8db69d4a",
   "metadata": {},
   "outputs": [],
   "source": [
    "# Markdown和LaTex"
   ]
  },
  {
   "cell_type": "code",
   "execution_count": 3,
   "id": "cf28e0f4",
   "metadata": {},
   "outputs": [],
   "source": [
    "# Markdown的优势:1、格式比纯文本更丰富 2、体积比富文本更轻量"
   ]
  },
  {
   "cell_type": "code",
   "execution_count": 4,
   "id": "68b6671a",
   "metadata": {},
   "outputs": [],
   "source": [
    "# README.md 目的是提供代码项目的大致介绍"
   ]
  },
  {
   "cell_type": "markdown",
   "id": "58839760",
   "metadata": {},
   "source": [
    "# 这是一级标题"
   ]
  },
  {
   "cell_type": "markdown",
   "id": "f114d064",
   "metadata": {},
   "source": [
    "## 这是二级标题"
   ]
  },
  {
   "cell_type": "markdown",
   "id": "0a9ee071",
   "metadata": {},
   "source": [
    "###### 这是六级标题"
   ]
  },
  {
   "cell_type": "markdown",
   "id": "c9c2a80b",
   "metadata": {},
   "source": [
    "**加粗这些文字**"
   ]
  },
  {
   "cell_type": "markdown",
   "id": "f1acccae",
   "metadata": {},
   "source": [
    "*斜体这些问题*"
   ]
  },
  {
   "cell_type": "markdown",
   "id": "85c21c50",
   "metadata": {},
   "source": [
    "我被~~删除~~了"
   ]
  },
  {
   "cell_type": "markdown",
   "id": "d069b911",
   "metadata": {},
   "source": [
    "[这是一个链接](https://space.bilibili.com/11021614/lists?sid=762064)"
   ]
  },
  {
   "cell_type": "markdown",
   "id": "2883c405",
   "metadata": {},
   "source": [
    "![插入图片](https://cn.bing.com/images/search?view=detailV2&ccid=65sHqASE&id=636CED76980F7E23DA30D2633D9966CE0DE5C96C&thid=OIP.65sHqASEU0TEoe7wftGrOAHaHa&mediaurl=https%3a%2f%2fc-ssl.dtstatic.com%2fuploads%2fblog%2f202211%2f19%2f20221119191026_654f6.thumb.1000_0.jpg&exph=1000&expw=1000&q=%e5%9b%be%e7%89%87&simid=607999664528317583&FORM=IRPRST&ck=96C70452E7D72EF7EF2CA8F540DE46D7&selectedIndex=0&itb=0&idpp=overlayview&ajaxhist=0&ajaxserp=0)"
   ]
  },
  {
   "cell_type": "markdown",
   "id": "d2a8e1bd",
   "metadata": {},
   "source": [
    "> 蒹葭苍苍  \n",
    "白露为霜"
   ]
  },
  {
   "cell_type": "markdown",
   "id": "964a95d7",
   "metadata": {},
   "source": [
    "> 我是被引用的文字"
   ]
  },
  {
   "cell_type": "markdown",
   "id": "a1998918",
   "metadata": {},
   "source": [
    "### 无须列表\n",
    "- 我是列表第一项\n",
    "- 我是列表第二项"
   ]
  },
  {
   "cell_type": "markdown",
   "id": "15ff553d",
   "metadata": {},
   "source": [
    "### 有序列表\n",
    "1. 我是列表第一项\n",
    "2. 我是列表第二项\n",
    "3. 我是列表第三项"
   ]
  },
  {
   "cell_type": "markdown",
   "id": "260d082a",
   "metadata": {},
   "source": [
    "我们通过'import math'来引入math库。"
   ]
  },
  {
   "cell_type": "markdown",
   "id": "18ed3b29",
   "metadata": {},
   "source": [
    "我们通过`import math`来引入math库。"
   ]
  },
  {
   "cell_type": "markdown",
   "id": "de4959c0",
   "metadata": {},
   "source": [
    "```python\n",
    "import math\n",
    "print(\"Hello World!\")\n",
    "print(math.pi)\n",
    "```"
   ]
  },
  {
   "cell_type": "markdown",
   "id": "e71325ae",
   "metadata": {},
   "source": [
    "我是普普通通的文字 \n",
    "我是在旁边的普通文字"
   ]
  },
  {
   "cell_type": "markdown",
   "id": "93661be6",
   "metadata": {},
   "source": [
    "我是普普通通的文字 \n",
    "\n",
    "我是在旁边的普通文字"
   ]
  },
  {
   "cell_type": "markdown",
   "id": "23f4ad3c",
   "metadata": {},
   "source": [
    "我是普普通通的文字  \n",
    "我是在旁边的普通文字"
   ]
  },
  {
   "cell_type": "code",
   "execution_count": 5,
   "id": "8b3f04b9",
   "metadata": {},
   "outputs": [],
   "source": [
    "# LaTex"
   ]
  },
  {
   "cell_type": "markdown",
   "id": "d67c1eef",
   "metadata": {},
   "source": [
    "这是一个数学公式：$x^2 + y^2 = 1$"
   ]
  },
  {
   "cell_type": "markdown",
   "id": "18629274",
   "metadata": {},
   "source": [
    "这是一个数学公式:$$x^2 + y^2 = 1$$"
   ]
  },
  {
   "cell_type": "markdown",
   "id": "83412fbd",
   "metadata": {},
   "source": [
    "$$x + y$$\n",
    "$$x - y$$\n",
    "$$x \\times y$$\n",
    "$$x \\div y$$\n",
    "$$x^3$$\n",
    "$$H_2O$$\n",
    "$$S_{input}$$\n",
    "$$\\sum(x^2 + y^2)$$\n",
    "$$\\sqrt[3]x$$\n",
    "$$\\sqrt[3]{a^2m^2}$$\n",
    "$$\\frac{x + y}{x - y}$$"
   ]
  },
  {
   "cell_type": "markdown",
   "id": "b14c8caf",
   "metadata": {},
   "source": [
    "[更多LaTex符号：](https://oeis.org/wiki/List_of_LaTex_mathematical_symbols)"
   ]
  },
  {
   "cell_type": "code",
   "execution_count": null,
   "id": "f75aa5a3",
   "metadata": {},
   "outputs": [],
   "source": []
  }
 ],
 "metadata": {
  "kernelspec": {
   "display_name": "Python 3 (ipykernel)",
   "language": "python",
   "name": "python3"
  },
  "language_info": {
   "codemirror_mode": {
    "name": "ipython",
    "version": 3
   },
   "file_extension": ".py",
   "mimetype": "text/x-python",
   "name": "python",
   "nbconvert_exporter": "python",
   "pygments_lexer": "ipython3",
   "version": "3.9.13"
  }
 },
 "nbformat": 4,
 "nbformat_minor": 5
}
